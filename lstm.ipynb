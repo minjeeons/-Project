{
  "nbformat": 4,
  "nbformat_minor": 0,
  "metadata": {
    "colab": {
      "name": "lstm",
      "provenance": [],
      "collapsed_sections": []
    },
    "kernelspec": {
      "name": "python3",
      "display_name": "Python 3"
    },
    "language_info": {
      "name": "python"
    }
  },
  "cells": [
    {
      "cell_type": "code",
      "metadata": {
        "id": "KMdKZU9bSNCa"
      },
      "source": [
        "import numpy as np \n",
        "import pandas as pd \n",
        "import matplotlib.pyplot as plt\n",
        "import os\n",
        "from keras.models import Sequential\n",
        "from keras.layers import Dense\n",
        "from keras.callbacks import EarlyStopping, ModelCheckpoint\n",
        "from keras.layers import LSTM\n",
        "from tensorflow import keras\n",
        "import seaborn as sns\n",
        "import datetime as dt\n",
        "from sklearn.preprocessing import MinMaxScaler\n"
      ],
      "execution_count": null,
      "outputs": []
    },
    {
      "cell_type": "code",
      "metadata": {
        "id": "lHMFlUbsSiAG"
      },
      "source": [
        "df=pd.read_csv(\"/content/찐막_코로나_한국금리_코스피1.csv\",encoding=\"cp949\")\n"
      ],
      "execution_count": null,
      "outputs": []
    },
    {
      "cell_type": "code",
      "metadata": {
        "id": "RMtRc9IKSyHC",
        "colab": {
          "base_uri": "https://localhost:8080/",
          "height": 413
        },
        "outputId": "6fc5be1e-0190-4ec3-be55-9a97a4787de7"
      },
      "source": [
        "df['일자']=pd.to_datetime(df['일자'])\n",
        "df2=df.sort_values(\"일자\")\n",
        "df2.index=df2['일자']\n",
        "df2.head()"
      ],
      "execution_count": null,
      "outputs": [
        {
          "output_type": "execute_result",
          "data": {
            "text/html": [
              "<div>\n",
              "<style scoped>\n",
              "    .dataframe tbody tr th:only-of-type {\n",
              "        vertical-align: middle;\n",
              "    }\n",
              "\n",
              "    .dataframe tbody tr th {\n",
              "        vertical-align: top;\n",
              "    }\n",
              "\n",
              "    .dataframe thead th {\n",
              "        text-align: right;\n",
              "    }\n",
              "</style>\n",
              "<table border=\"1\" class=\"dataframe\">\n",
              "  <thead>\n",
              "    <tr style=\"text-align: right;\">\n",
              "      <th></th>\n",
              "      <th>Unnamed: 0</th>\n",
              "      <th>일자</th>\n",
              "      <th>X</th>\n",
              "      <th>종가</th>\n",
              "      <th>대비</th>\n",
              "      <th>등락률</th>\n",
              "      <th>시가</th>\n",
              "      <th>고가</th>\n",
              "      <th>저가</th>\n",
              "      <th>거래량</th>\n",
              "      <th>거래대금</th>\n",
              "      <th>상장시가총액</th>\n",
              "      <th>한국금리</th>\n",
              "      <th>계.명.</th>\n",
              "      <th>국내발생.명.</th>\n",
              "      <th>해외유입.명.</th>\n",
              "      <th>사망.명.</th>\n",
              "      <th>요일</th>\n",
              "      <th>전일대비</th>\n",
              "      <th>누적확진자</th>\n",
              "      <th>deathCnt</th>\n",
              "      <th>defCnt</th>\n",
              "      <th>gubun</th>\n",
              "      <th>gubunCn</th>\n",
              "      <th>gubunEn</th>\n",
              "      <th>incDec</th>\n",
              "      <th>isolClearCnt</th>\n",
              "      <th>isolIngCnt</th>\n",
              "      <th>localOccCnt</th>\n",
              "      <th>overFlowCnt</th>\n",
              "      <th>qurRate</th>\n",
              "      <th>seq</th>\n",
              "      <th>stdDay</th>\n",
              "      <th>updateDt</th>\n",
              "    </tr>\n",
              "    <tr>\n",
              "      <th>일자</th>\n",
              "      <th></th>\n",
              "      <th></th>\n",
              "      <th></th>\n",
              "      <th></th>\n",
              "      <th></th>\n",
              "      <th></th>\n",
              "      <th></th>\n",
              "      <th></th>\n",
              "      <th></th>\n",
              "      <th></th>\n",
              "      <th></th>\n",
              "      <th></th>\n",
              "      <th></th>\n",
              "      <th></th>\n",
              "      <th></th>\n",
              "      <th></th>\n",
              "      <th></th>\n",
              "      <th></th>\n",
              "      <th></th>\n",
              "      <th></th>\n",
              "      <th></th>\n",
              "      <th></th>\n",
              "      <th></th>\n",
              "      <th></th>\n",
              "      <th></th>\n",
              "      <th></th>\n",
              "      <th></th>\n",
              "      <th></th>\n",
              "      <th></th>\n",
              "      <th></th>\n",
              "      <th></th>\n",
              "      <th></th>\n",
              "      <th></th>\n",
              "      <th></th>\n",
              "    </tr>\n",
              "  </thead>\n",
              "  <tbody>\n",
              "    <tr>\n",
              "      <th>2007-01-02</th>\n",
              "      <td>1</td>\n",
              "      <td>2007-01-02</td>\n",
              "      <td>1</td>\n",
              "      <td>1435.26</td>\n",
              "      <td>0.80</td>\n",
              "      <td>0.06</td>\n",
              "      <td>1438.89</td>\n",
              "      <td>1439.71</td>\n",
              "      <td>1430.06</td>\n",
              "      <td>147739</td>\n",
              "      <td>2037041</td>\n",
              "      <td>705331659</td>\n",
              "      <td>4.75</td>\n",
              "      <td>0</td>\n",
              "      <td>NaN</td>\n",
              "      <td>NaN</td>\n",
              "      <td>NaN</td>\n",
              "      <td>NaN</td>\n",
              "      <td>0</td>\n",
              "      <td>0</td>\n",
              "      <td>NaN</td>\n",
              "      <td>NaN</td>\n",
              "      <td>NaN</td>\n",
              "      <td>NaN</td>\n",
              "      <td>NaN</td>\n",
              "      <td>NaN</td>\n",
              "      <td>NaN</td>\n",
              "      <td>NaN</td>\n",
              "      <td>NaN</td>\n",
              "      <td>NaN</td>\n",
              "      <td>NaN</td>\n",
              "      <td>NaN</td>\n",
              "      <td>NaN</td>\n",
              "      <td>NaN</td>\n",
              "    </tr>\n",
              "    <tr>\n",
              "      <th>2007-01-03</th>\n",
              "      <td>2</td>\n",
              "      <td>2007-01-03</td>\n",
              "      <td>2</td>\n",
              "      <td>1409.35</td>\n",
              "      <td>-25.91</td>\n",
              "      <td>-1.81</td>\n",
              "      <td>1436.42</td>\n",
              "      <td>1437.79</td>\n",
              "      <td>1409.31</td>\n",
              "      <td>203208</td>\n",
              "      <td>2611604</td>\n",
              "      <td>692674665</td>\n",
              "      <td>4.75</td>\n",
              "      <td>0</td>\n",
              "      <td>NaN</td>\n",
              "      <td>NaN</td>\n",
              "      <td>NaN</td>\n",
              "      <td>NaN</td>\n",
              "      <td>0</td>\n",
              "      <td>0</td>\n",
              "      <td>NaN</td>\n",
              "      <td>NaN</td>\n",
              "      <td>NaN</td>\n",
              "      <td>NaN</td>\n",
              "      <td>NaN</td>\n",
              "      <td>NaN</td>\n",
              "      <td>NaN</td>\n",
              "      <td>NaN</td>\n",
              "      <td>NaN</td>\n",
              "      <td>NaN</td>\n",
              "      <td>NaN</td>\n",
              "      <td>NaN</td>\n",
              "      <td>NaN</td>\n",
              "      <td>NaN</td>\n",
              "    </tr>\n",
              "    <tr>\n",
              "      <th>2007-01-04</th>\n",
              "      <td>3</td>\n",
              "      <td>2007-01-04</td>\n",
              "      <td>3</td>\n",
              "      <td>1397.29</td>\n",
              "      <td>-12.06</td>\n",
              "      <td>-0.86</td>\n",
              "      <td>1410.55</td>\n",
              "      <td>1411.12</td>\n",
              "      <td>1388.50</td>\n",
              "      <td>241172</td>\n",
              "      <td>2967081</td>\n",
              "      <td>686777867</td>\n",
              "      <td>4.75</td>\n",
              "      <td>0</td>\n",
              "      <td>NaN</td>\n",
              "      <td>NaN</td>\n",
              "      <td>NaN</td>\n",
              "      <td>NaN</td>\n",
              "      <td>0</td>\n",
              "      <td>0</td>\n",
              "      <td>NaN</td>\n",
              "      <td>NaN</td>\n",
              "      <td>NaN</td>\n",
              "      <td>NaN</td>\n",
              "      <td>NaN</td>\n",
              "      <td>NaN</td>\n",
              "      <td>NaN</td>\n",
              "      <td>NaN</td>\n",
              "      <td>NaN</td>\n",
              "      <td>NaN</td>\n",
              "      <td>NaN</td>\n",
              "      <td>NaN</td>\n",
              "      <td>NaN</td>\n",
              "      <td>NaN</td>\n",
              "    </tr>\n",
              "    <tr>\n",
              "      <th>2007-01-05</th>\n",
              "      <td>4</td>\n",
              "      <td>2007-01-05</td>\n",
              "      <td>4</td>\n",
              "      <td>1385.76</td>\n",
              "      <td>-11.53</td>\n",
              "      <td>-0.83</td>\n",
              "      <td>1398.60</td>\n",
              "      <td>1400.59</td>\n",
              "      <td>1372.36</td>\n",
              "      <td>277292</td>\n",
              "      <td>3394972</td>\n",
              "      <td>681185457</td>\n",
              "      <td>4.75</td>\n",
              "      <td>0</td>\n",
              "      <td>NaN</td>\n",
              "      <td>NaN</td>\n",
              "      <td>NaN</td>\n",
              "      <td>NaN</td>\n",
              "      <td>0</td>\n",
              "      <td>0</td>\n",
              "      <td>NaN</td>\n",
              "      <td>NaN</td>\n",
              "      <td>NaN</td>\n",
              "      <td>NaN</td>\n",
              "      <td>NaN</td>\n",
              "      <td>NaN</td>\n",
              "      <td>NaN</td>\n",
              "      <td>NaN</td>\n",
              "      <td>NaN</td>\n",
              "      <td>NaN</td>\n",
              "      <td>NaN</td>\n",
              "      <td>NaN</td>\n",
              "      <td>NaN</td>\n",
              "      <td>NaN</td>\n",
              "    </tr>\n",
              "    <tr>\n",
              "      <th>2007-01-08</th>\n",
              "      <td>5</td>\n",
              "      <td>2007-01-08</td>\n",
              "      <td>5</td>\n",
              "      <td>1370.81</td>\n",
              "      <td>-14.95</td>\n",
              "      <td>-1.08</td>\n",
              "      <td>1376.76</td>\n",
              "      <td>1384.65</td>\n",
              "      <td>1366.48</td>\n",
              "      <td>177592</td>\n",
              "      <td>2555241</td>\n",
              "      <td>673840181</td>\n",
              "      <td>4.75</td>\n",
              "      <td>0</td>\n",
              "      <td>NaN</td>\n",
              "      <td>NaN</td>\n",
              "      <td>NaN</td>\n",
              "      <td>NaN</td>\n",
              "      <td>0</td>\n",
              "      <td>0</td>\n",
              "      <td>NaN</td>\n",
              "      <td>NaN</td>\n",
              "      <td>NaN</td>\n",
              "      <td>NaN</td>\n",
              "      <td>NaN</td>\n",
              "      <td>NaN</td>\n",
              "      <td>NaN</td>\n",
              "      <td>NaN</td>\n",
              "      <td>NaN</td>\n",
              "      <td>NaN</td>\n",
              "      <td>NaN</td>\n",
              "      <td>NaN</td>\n",
              "      <td>NaN</td>\n",
              "      <td>NaN</td>\n",
              "    </tr>\n",
              "  </tbody>\n",
              "</table>\n",
              "</div>"
            ],
            "text/plain": [
              "            Unnamed: 0         일자  X       종가  ...  qurRate  seq  stdDay  updateDt\n",
              "일자                                             ...                                \n",
              "2007-01-02           1 2007-01-02  1  1435.26  ...      NaN  NaN     NaN       NaN\n",
              "2007-01-03           2 2007-01-03  2  1409.35  ...      NaN  NaN     NaN       NaN\n",
              "2007-01-04           3 2007-01-04  3  1397.29  ...      NaN  NaN     NaN       NaN\n",
              "2007-01-05           4 2007-01-05  4  1385.76  ...      NaN  NaN     NaN       NaN\n",
              "2007-01-08           5 2007-01-08  5  1370.81  ...      NaN  NaN     NaN       NaN\n",
              "\n",
              "[5 rows x 34 columns]"
            ]
          },
          "metadata": {},
          "execution_count": 3
        }
      ]
    },
    {
      "cell_type": "code",
      "metadata": {
        "id": "dYHmJJlpTSeH",
        "colab": {
          "base_uri": "https://localhost:8080/",
          "height": 265
        },
        "outputId": "38f9ddc3-09bb-4347-c9a2-3bc7cf9b870f"
      },
      "source": [
        "plt.plot(df2['일자'],df2['종가'])\n",
        "plt.show()"
      ],
      "execution_count": null,
      "outputs": [
        {
          "output_type": "display_data",
          "data": {
            "image/png": "[encoded data removed]",
            "text/plain": [
              "<Figure size 432x288 with 1 Axes>"
            ]
          },
          "metadata": {
            "needs_background": "light"
          }
        }
      ]
    },
    {
      "cell_type": "code",
      "metadata": {
        "colab": {
          "base_uri": "https://localhost:8080/",
          "height": 574
        },
        "id": "LE6Q5X2_TrnJ",
        "outputId": "b8d5b0aa-fad3-4628-a4b5-087aa8d81bfc"
      },
      "source": [
        "####데이터 분리 ####\n",
        "split_date = pd.Timestamp('31-12-2019')\n",
        "#시가\t고가\t저가\t거래량\n",
        "train_data=pd.DataFrame(df2.loc[:split_date,['종가']])\n",
        "test_data=pd.DataFrame(df2.loc[split_date:,['종가']])\n",
        "\n",
        "print(train_data)\n",
        "\n",
        "ax=train_data.plot()\n",
        "test_data.plot(ax=ax)\n",
        "plt.legend([\"train\",'test'])\n",
        "plt.xlabel('date')\n",
        "plt.ylabel('end')\n",
        "plt.title(\"Close price change according to date\")"
      ],
      "execution_count": null,
      "outputs": [
        {
          "output_type": "stream",
          "name": "stdout",
          "text": [
            "                 종가\n",
            "일자                 \n",
            "2007-01-02  1435.26\n",
            "2007-01-03  1409.35\n",
            "2007-01-04  1397.29\n",
            "2007-01-05  1385.76\n",
            "2007-01-08  1370.81\n",
            "...             ...\n",
            "2019-12-23  2203.71\n",
            "2019-12-24  2190.08\n",
            "2019-12-26  2197.93\n",
            "2019-12-27  2204.21\n",
            "2019-12-30  2197.67\n",
            "\n",
            "[3213 rows x 1 columns]\n"
          ]
        },
        {
          "output_type": "execute_result",
          "data": {
            "text/plain": [
              "Text(0.5, 1.0, 'Close price change according to date')"
            ]
          },
          "metadata": {},
          "execution_count": 4
        },
        {
          "output_type": "display_data",
          "data": {
            "image/png": "[encoded data removed]",
            "text/plain": [
              "<Figure size 432x288 with 1 Axes>"
            ]
          },
          "metadata": {
            "needs_background": "light"
          }
        }
      ]
    },
    {
      "cell_type": "code",
      "metadata": {
        "id": "VrgvP2HcUhrw"
      },
      "source": [
        "scaler = MinMaxScaler() \n",
        "total=pd.DataFrame(df2['종가'])\n",
        "total_scale=scaler.fit_transform(total)\n",
        "train_scale=scaler.fit_transform(train_data)\n",
        "test_scale= scaler.transform(test_data)"
      ],
      "execution_count": null,
      "outputs": []
    },
    {
      "cell_type": "code",
      "metadata": {
        "id": "qUbp_ePjUkgI",
        "colab": {
          "base_uri": "https://localhost:8080/"
        },
        "outputId": "3f2a4702-711e-46f4-8436-0d3337c8b06d"
      },
      "source": [
        "train_sc_df = pd.DataFrame(train_scale, columns=['Scaled'], index=train_data.index)\n",
        "test_sc_df = pd.DataFrame(test_scale, columns=['Scaled'], index=test_data.index)\n",
        "total_sc_df=pd.DataFrame(total_scale, columns=['Scaled'], index=total.index)\n",
        "####LSTM 의 경우 과거데이터를 어떻게 이용하는가를 파악해야 한다.\n",
        "\n",
        "for i in range(1, 21): #1달 데이터 기준_이때 20은 통상 주말에 하지 않기 때문에 20일로 window값을\n",
        "    train_sc_df ['Scaled_{}'.format(i)]=train_sc_df ['Scaled'].shift(i)\n",
        "    test_sc_df ['Scaled_{}'.format(i)]=test_sc_df ['Scaled'].shift(i)\n",
        "\n",
        "\n",
        "x_train=train_sc_df.dropna().drop('Scaled', axis=1) #표준화_window\n",
        "print(x_train)\n",
        "y_train=train_sc_df.dropna()[['Scaled']]\n",
        "print(x_train)\n",
        "\n",
        "\n",
        "x_test=test_sc_df.dropna().drop('Scaled', axis=1)\n",
        "y_test=test_sc_df.dropna()[['Scaled']]\n",
        "\n",
        "#nd_array로 변환한다\n",
        "x_train=x_train.values\n",
        "x_test=x_test.values\n",
        "\n",
        "y_train=y_train.values\n",
        "y_test=y_test.values"
      ],
      "execution_count": null,
      "outputs": [
        {
          "output_type": "stream",
          "name": "stdout",
          "text": [
            "            Scaled_1  Scaled_2  Scaled_3  ...  Scaled_18  Scaled_19  Scaled_20\n",
            "일자                                        ...                                 \n",
            "2009-02-03  0.081133  0.090732  0.093549  ...   0.111101   0.097988   0.087750\n",
            "2009-02-04  0.091422  0.081133  0.090732  ...   0.132558   0.111101   0.097988\n",
            "2009-02-05  0.111791  0.091422  0.081133  ...   0.118331   0.132558   0.111101\n",
            "2009-02-06  0.100717  0.111791  0.091422  ...   0.102667   0.118331   0.132558\n",
            "2009-02-09  0.121218  0.100717  0.111791  ...   0.087338   0.102667   0.118331\n",
            "...              ...       ...       ...  ...        ...        ...        ...\n",
            "2018-12-21  0.659316  0.671168  0.660576  ...   0.684199   0.673815   0.657644\n",
            "2018-12-24  0.660183  0.659316  0.671168  ...   0.689771   0.684199   0.673815\n",
            "2018-12-26  0.656080  0.660183  0.659316  ...   0.693494   0.689771   0.684199\n",
            "2018-12-27  0.638985  0.656080  0.660183  ...   0.682578   0.693494   0.689771\n",
            "2018-12-28  0.639257  0.638985  0.656080  ...   0.704783   0.682578   0.693494\n",
            "\n",
            "[2453 rows x 20 columns]\n",
            "            Scaled_1  Scaled_2  Scaled_3  ...  Scaled_18  Scaled_19  Scaled_20\n",
            "일자                                        ...                                 \n",
            "2009-02-03  0.081133  0.090732  0.093549  ...   0.111101   0.097988   0.087750\n",
            "2009-02-04  0.091422  0.081133  0.090732  ...   0.132558   0.111101   0.097988\n",
            "2009-02-05  0.111791  0.091422  0.081133  ...   0.118331   0.132558   0.111101\n",
            "2009-02-06  0.100717  0.111791  0.091422  ...   0.102667   0.118331   0.132558\n",
            "2009-02-09  0.121218  0.100717  0.111791  ...   0.087338   0.102667   0.118331\n",
            "...              ...       ...       ...  ...        ...        ...        ...\n",
            "2018-12-21  0.659316  0.671168  0.660576  ...   0.684199   0.673815   0.657644\n",
            "2018-12-24  0.660183  0.659316  0.671168  ...   0.689771   0.684199   0.673815\n",
            "2018-12-26  0.656080  0.660183  0.659316  ...   0.693494   0.689771   0.684199\n",
            "2018-12-27  0.638985  0.656080  0.660183  ...   0.682578   0.693494   0.689771\n",
            "2018-12-28  0.639257  0.638985  0.656080  ...   0.704783   0.682578   0.693494\n",
            "\n",
            "[2453 rows x 20 columns]\n"
          ]
        }
      ]
    },
    {
      "cell_type": "code",
      "metadata": {
        "colab": {
          "base_uri": "https://localhost:8080/"
        },
        "id": "UxIOrs6iFdHy",
        "outputId": "29e2485c-acf7-4e91-d054-259ecd327d80"
      },
      "source": [
        "####LSTM\n",
        "model = Sequential() #순서형 데이터를 지정\n",
        "x_train_t = x_train.reshape(x_train.shape[0], 20,1) \n",
        "print(x_train_t)\n",
        "\n",
        "x_test_t = x_test.reshape(x_test.shape[0], 20, 1) \n",
        "\n",
        "model.add(LSTM(128,return_sequences=True, input_shape=(20, 1))) # \n",
        "\n",
        "# 두번째 LSTM 레이어\n",
        "model.add(LSTM(128,return_sequences=False))\n",
        "\n",
        "# 예측값 1개\n",
        "model.add(Dense(1, activation='linear')) \n",
        "model.compile(loss='mean_squared_error', optimizer='adam') \n",
        "model.summary()"
      ],
      "execution_count": null,
      "outputs": [
        {
          "output_type": "stream",
          "name": "stdout",
          "text": [
            "[[[0.0811331 ]\n",
            "  [0.09073181]\n",
            "  [0.09354937]\n",
            "  ...\n",
            "  [0.11110056]\n",
            "  [0.09798782]\n",
            "  [0.08774962]]\n",
            "\n",
            " [[0.09142195]\n",
            "  [0.0811331 ]\n",
            "  [0.09073181]\n",
            "  ...\n",
            "  [0.13255835]\n",
            "  [0.11110056]\n",
            "  [0.09798782]]\n",
            "\n",
            " [[0.1117907 ]\n",
            "  [0.09142195]\n",
            "  [0.0811331 ]\n",
            "  ...\n",
            "  [0.11833124]\n",
            "  [0.13255835]\n",
            "  [0.11110056]]\n",
            "\n",
            " ...\n",
            "\n",
            " [[0.65608023]\n",
            "  [0.66018311]\n",
            "  [0.65931568]\n",
            "  ...\n",
            "  [0.69349365]\n",
            "  [0.68977067]\n",
            "  [0.68419886]]\n",
            "\n",
            " [[0.63898492]\n",
            "  [0.65608023]\n",
            "  [0.66018311]\n",
            "  ...\n",
            "  [0.68257797]\n",
            "  [0.69349365]\n",
            "  [0.68977067]]\n",
            "\n",
            " [[0.63925718]\n",
            "  [0.63898492]\n",
            "  [0.65608023]\n",
            "  ...\n",
            "  [0.70478289]\n",
            "  [0.68257797]\n",
            "  [0.69349365]]]\n",
            "Model: \"sequential\"\n",
            "_________________________________________________________________\n",
            " Layer (type)                Output Shape              Param #   \n",
            "=================================================================\n",
            " lstm (LSTM)                 (None, 20, 128)           66560     \n",
            "                                                                 \n",
            " lstm_1 (LSTM)               (None, 128)               131584    \n",
            "                                                                 \n",
            " dense (Dense)               (None, 1)                 129       \n",
            "                                                                 \n",
            "=================================================================\n",
            "Total params: 198,273\n",
            "Trainable params: 198,273\n",
            "Non-trainable params: 0\n",
            "_________________________________________________________________\n"
          ]
        }
      ]
    },
    {
      "cell_type": "code",
      "metadata": {
        "colab": {
          "base_uri": "https://localhost:8080/"
        },
        "id": "8YIedE6pGGtu",
        "outputId": "6f66b3a6-a84c-43b4-9c2f-cef737018c53"
      },
      "source": [
        "early_stop = EarlyStopping(monitor='loss', patience=5, verbose=1)\n",
        "\n",
        "#epochs는 훈련 반복 횟수를 지정하고 batch_size는 한 번 훈련할 때 입력되는 데이터 크기를 지정한다.\n",
        "model.fit(x_train_t, y_train, epochs=40,batch_size=20, verbose=1, callbacks=[early_stop])\n",
        "\n",
        "y_pred = model.predict(x_test_t)"
      ],
      "execution_count": null,
      "outputs": [
        {
          "output_type": "stream",
          "name": "stdout",
          "text": [
            "Epoch 1/40\n",
            "123/123 [==============================] - 10s 45ms/step - loss: 0.0106\n",
            "Epoch 2/40\n",
            "123/123 [==============================] - 5s 44ms/step - loss: 0.0014\n",
            "Epoch 3/40\n",
            "123/123 [==============================] - 5s 44ms/step - loss: 0.0015\n",
            "Epoch 4/40\n",
            "123/123 [==============================] - 5s 44ms/step - loss: 0.0013\n",
            "Epoch 5/40\n",
            "123/123 [==============================] - 5s 44ms/step - loss: 0.0013\n",
            "Epoch 6/40\n",
            "123/123 [==============================] - 5s 44ms/step - loss: 0.0012\n",
            "Epoch 7/40\n",
            "123/123 [==============================] - 5s 44ms/step - loss: 0.0011\n",
            "Epoch 8/40\n",
            "123/123 [==============================] - 5s 43ms/step - loss: 0.0010\n",
            "Epoch 9/40\n",
            "123/123 [==============================] - 5s 44ms/step - loss: 8.9782e-04\n",
            "Epoch 10/40\n",
            "123/123 [==============================] - 5s 43ms/step - loss: 8.0746e-04\n",
            "Epoch 11/40\n",
            "123/123 [==============================] - 6s 45ms/step - loss: 7.0868e-04\n",
            "Epoch 12/40\n",
            "123/123 [==============================] - 5s 44ms/step - loss: 6.4169e-04\n",
            "Epoch 13/40\n",
            "123/123 [==============================] - 6s 45ms/step - loss: 7.2394e-04\n",
            "Epoch 14/40\n",
            "123/123 [==============================] - 5s 45ms/step - loss: 5.9284e-04\n",
            "Epoch 15/40\n",
            "123/123 [==============================] - 5s 44ms/step - loss: 5.4815e-04\n",
            "Epoch 16/40\n",
            "123/123 [==============================] - 5s 44ms/step - loss: 5.0487e-04\n",
            "Epoch 17/40\n",
            "123/123 [==============================] - 5s 44ms/step - loss: 6.6436e-04\n",
            "Epoch 18/40\n",
            "123/123 [==============================] - 5s 44ms/step - loss: 5.1513e-04\n",
            "Epoch 19/40\n",
            "123/123 [==============================] - 5s 44ms/step - loss: 5.7871e-04\n",
            "Epoch 20/40\n",
            "123/123 [==============================] - 5s 43ms/step - loss: 5.7451e-04\n",
            "Epoch 21/40\n",
            "123/123 [==============================] - 5s 43ms/step - loss: 4.6946e-04\n",
            "Epoch 22/40\n",
            "123/123 [==============================] - 5s 44ms/step - loss: 4.4597e-04\n",
            "Epoch 23/40\n",
            "123/123 [==============================] - 5s 44ms/step - loss: 4.7721e-04\n",
            "Epoch 24/40\n",
            "123/123 [==============================] - 5s 44ms/step - loss: 4.6637e-04\n",
            "Epoch 25/40\n",
            "123/123 [==============================] - 5s 43ms/step - loss: 4.8801e-04\n",
            "Epoch 26/40\n",
            "123/123 [==============================] - 5s 43ms/step - loss: 4.5809e-04\n",
            "Epoch 27/40\n",
            "123/123 [==============================] - 5s 42ms/step - loss: 4.7306e-04\n",
            "Epoch 00027: early stopping\n"
          ]
        }
      ]
    },
    {
      "cell_type": "code",
      "metadata": {
        "colab": {
          "base_uri": "https://localhost:8080/",
          "height": 458
        },
        "id": "yLSfKpjSGqEE",
        "outputId": "c5cf2f4e-6141-41b0-eeb6-25f68699e540"
      },
      "source": [
        "t_df=test_sc_df.dropna()\n",
        "y_pred\n",
        "y_test_df=pd.DataFrame(y_test, columns=['close'], index=t_df.index)\n",
        "y_pred_df=pd.DataFrame(y_pred, columns=['close'], index=t_df.index)\n",
        "\n",
        "ax1=y_test_df.plot()\n",
        "y_pred_df.plot(ax=ax1)\n",
        "plt.legend(['test','pred'])\n",
        "plt.title(\"not_covid_to2018\") #갑작스러운 변동에 대비하지 못하는 것을 알 수 있음"
      ],
      "execution_count": null,
      "outputs": [
        {
          "output_type": "execute_result",
          "data": {
            "text/plain": [
              "Text(0.5, 1.0, 'not_covid_to2018')"
            ]
          },
          "metadata": {},
          "execution_count": 11
        },
        {
          "output_type": "stream",
          "name": "stderr",
          "text": [
            "/usr/local/lib/python3.7/dist-packages/matplotlib/backends/backend_agg.py:214: RuntimeWarning: Glyph 51068 missing from current font.\n",
            "  font.set_text(s, 0.0, flags=flags)\n",
            "/usr/local/lib/python3.7/dist-packages/matplotlib/backends/backend_agg.py:214: RuntimeWarning: Glyph 51088 missing from current font.\n",
            "  font.set_text(s, 0.0, flags=flags)\n",
            "/usr/local/lib/python3.7/dist-packages/matplotlib/backends/backend_agg.py:183: RuntimeWarning: Glyph 51068 missing from current font.\n",
            "  font.set_text(s, 0, flags=flags)\n",
            "/usr/local/lib/python3.7/dist-packages/matplotlib/backends/backend_agg.py:183: RuntimeWarning: Glyph 51088 missing from current font.\n",
            "  font.set_text(s, 0, flags=flags)\n"
          ]
        },
        {
          "output_type": "display_data",
          "data": {
            "image/png": "[encoded data removed]",
            "text/plain": [
              "<Figure size 432x288 with 1 Axes>"
            ]
          },
          "metadata": {
            "needs_background": "light"
          }
        }
      ]
    },
    {
      "cell_type": "code",
      "metadata": {
        "id": "kOpYo5tpG_u3",
        "colab": {
          "base_uri": "https://localhost:8080/",
          "height": 458
        },
        "outputId": "5aae94b5-af3d-445d-8783-f4b0e20c65a8"
      },
      "source": [
        "t_df=test_sc_df.dropna()\n",
        "y_pred\n",
        "y_test_df=pd.DataFrame(y_test, columns=['close'], index=t_df.index)\n",
        "y_pred_df=pd.DataFrame(y_pred, columns=['close'], index=t_df.index)\n",
        "\n",
        "ax1=y_test_df.plot()\n",
        "y_pred_df.plot(ax=ax1)\n",
        "plt.legend(['test','pred'])\n",
        "plt.title(\"2020~2021_test\")"
      ],
      "execution_count": null,
      "outputs": [
        {
          "output_type": "execute_result",
          "data": {
            "text/plain": [
              "Text(0.5, 1.0, '2020~2021_test')"
            ]
          },
          "metadata": {},
          "execution_count": 12
        },
        {
          "output_type": "stream",
          "name": "stderr",
          "text": [
            "/usr/local/lib/python3.7/dist-packages/matplotlib/backends/backend_agg.py:214: RuntimeWarning: Glyph 51068 missing from current font.\n",
            "  font.set_text(s, 0.0, flags=flags)\n",
            "/usr/local/lib/python3.7/dist-packages/matplotlib/backends/backend_agg.py:214: RuntimeWarning: Glyph 51088 missing from current font.\n",
            "  font.set_text(s, 0.0, flags=flags)\n",
            "/usr/local/lib/python3.7/dist-packages/matplotlib/backends/backend_agg.py:183: RuntimeWarning: Glyph 51068 missing from current font.\n",
            "  font.set_text(s, 0, flags=flags)\n",
            "/usr/local/lib/python3.7/dist-packages/matplotlib/backends/backend_agg.py:183: RuntimeWarning: Glyph 51088 missing from current font.\n",
            "  font.set_text(s, 0, flags=flags)\n"
          ]
        },
        {
          "output_type": "display_data",
          "data": {
            "image/png": "[encoded data removed]",
            "text/plain": [
              "<Figure size 432x288 with 1 Axes>"
            ]
          },
          "metadata": {
            "needs_background": "light"
          }
        }
      ]
    },
    {
      "cell_type": "code",
      "metadata": {
        "id": "oifDo-aUN8I1",
        "colab": {
          "base_uri": "https://localhost:8080/"
        },
        "outputId": "a6523244-ee5c-4b28-deb0-d37b14410ccd"
      },
      "source": [
        "print(model.evaluate(x_train_t, y_train,batch_size=30))"
      ],
      "execution_count": null,
      "outputs": [
        {
          "output_type": "stream",
          "name": "stdout",
          "text": [
            "82/82 [==============================] - 1s 16ms/step - loss: 4.3944e-04\n",
            "0.00043943998753093183\n"
          ]
        }
      ]
    },
    {
      "cell_type": "code",
      "metadata": {
        "colab": {
          "base_uri": "https://localhost:8080/"
        },
        "id": "lXevO3aclFYO",
        "outputId": "4e377d80-4117-4026-9140-f76fb9218134"
      },
      "source": [
        "x_train_t"
      ],
      "execution_count": null,
      "outputs": [
        {
          "output_type": "execute_result",
          "data": {
            "text/plain": [
              "array([[[0.0811331 ],\n",
              "        [0.09073181],\n",
              "        [0.09354937],\n",
              "        ...,\n",
              "        [0.11110056],\n",
              "        [0.09798782],\n",
              "        [0.08774962]],\n",
              "\n",
              "       [[0.09142195],\n",
              "        [0.0811331 ],\n",
              "        [0.09073181],\n",
              "        ...,\n",
              "        [0.13255835],\n",
              "        [0.11110056],\n",
              "        [0.09798782]],\n",
              "\n",
              "       [[0.1117907 ],\n",
              "        [0.09142195],\n",
              "        [0.0811331 ],\n",
              "        ...,\n",
              "        [0.11833124],\n",
              "        [0.13255835],\n",
              "        [0.11110056]],\n",
              "\n",
              "       ...,\n",
              "\n",
              "       [[0.65608023],\n",
              "        [0.66018311],\n",
              "        [0.65931568],\n",
              "        ...,\n",
              "        [0.69349365],\n",
              "        [0.68977067],\n",
              "        [0.68419886]],\n",
              "\n",
              "       [[0.63898492],\n",
              "        [0.65608023],\n",
              "        [0.66018311],\n",
              "        ...,\n",
              "        [0.68257797],\n",
              "        [0.69349365],\n",
              "        [0.68977067]],\n",
              "\n",
              "       [[0.63925718],\n",
              "        [0.63898492],\n",
              "        [0.65608023],\n",
              "        ...,\n",
              "        [0.70478289],\n",
              "        [0.68257797],\n",
              "        [0.69349365]]])"
            ]
          },
          "metadata": {},
          "execution_count": 24
        }
      ]
    },
    {
      "cell_type": "code",
      "metadata": {
        "id": "XDvDaJ9z_tCr"
      },
      "source": [
        ""
      ],
      "execution_count": null,
      "outputs": []
    },
    {
      "cell_type": "code",
      "metadata": {
        "id": "aTrTiUWP1dmS"
      },
      "source": [
        ""
      ],
      "execution_count": null,
      "outputs": []
    },
    {
      "cell_type": "code",
      "metadata": {
        "id": "7J-tHR9StQFW"
      },
      "source": [
        ""
      ],
      "execution_count": null,
      "outputs": []
    },
    {
      "cell_type": "code",
      "metadata": {
        "colab": {
          "base_uri": "https://localhost:8080/",
          "height": 540
        },
        "id": "oDkGbQus8CF2",
        "outputId": "e8885e76-e471-4a05-bc2b-8531f8eef4fa"
      },
      "source": [
        ""
      ],
      "execution_count": null,
      "outputs": [
        {
          "output_type": "error",
          "ename": "ImportError",
          "evalue": "ignored",
          "traceback": [
            "\u001b[0;31m---------------------------------------------------------------------------\u001b[0m",
            "\u001b[0;31mImportError\u001b[0m                               Traceback (most recent call last)",
            "\u001b[0;32m<ipython-input-240-37bd4e90f748>\u001b[0m in \u001b[0;36m<module>\u001b[0;34m()\u001b[0m\n\u001b[1;32m      1\u001b[0m \u001b[0;34m\u001b[0m\u001b[0m\n\u001b[1;32m      2\u001b[0m \u001b[0;34m\u001b[0m\u001b[0m\n\u001b[0;32m----> 3\u001b[0;31m \u001b[0;32mfrom\u001b[0m \u001b[0mpmdarima\u001b[0m\u001b[0;34m.\u001b[0m\u001b[0marima\u001b[0m \u001b[0;32mimport\u001b[0m \u001b[0mndiffs\u001b[0m\u001b[0;34m\u001b[0m\u001b[0;34m\u001b[0m\u001b[0m\n\u001b[0m\u001b[1;32m      4\u001b[0m \u001b[0;32mimport\u001b[0m \u001b[0mpmdarima\u001b[0m \u001b[0;32mas\u001b[0m \u001b[0mpm\u001b[0m\u001b[0;34m\u001b[0m\u001b[0;34m\u001b[0m\u001b[0m\n",
            "\u001b[0;32m/usr/local/lib/python3.7/dist-packages/pmdarima/__init__.py\u001b[0m in \u001b[0;36m<module>\u001b[0;34m()\u001b[0m\n\u001b[1;32m     49\u001b[0m \u001b[0;34m\u001b[0m\u001b[0m\n\u001b[1;32m     50\u001b[0m     \u001b[0;31m# Stuff we want at top-level\u001b[0m\u001b[0;34m\u001b[0m\u001b[0;34m\u001b[0m\u001b[0;34m\u001b[0m\u001b[0m\n\u001b[0;32m---> 51\u001b[0;31m     \u001b[0;32mfrom\u001b[0m \u001b[0;34m.\u001b[0m\u001b[0marima\u001b[0m \u001b[0;32mimport\u001b[0m \u001b[0mauto_arima\u001b[0m\u001b[0;34m,\u001b[0m \u001b[0mARIMA\u001b[0m\u001b[0;34m,\u001b[0m \u001b[0mAutoARIMA\u001b[0m\u001b[0;34m,\u001b[0m \u001b[0mStepwiseContext\u001b[0m\u001b[0;34m,\u001b[0m \u001b[0mdecompose\u001b[0m\u001b[0;34m\u001b[0m\u001b[0;34m\u001b[0m\u001b[0m\n\u001b[0m\u001b[1;32m     52\u001b[0m     \u001b[0;32mfrom\u001b[0m \u001b[0;34m.\u001b[0m\u001b[0mutils\u001b[0m \u001b[0;32mimport\u001b[0m \u001b[0macf\u001b[0m\u001b[0;34m,\u001b[0m \u001b[0mautocorr_plot\u001b[0m\u001b[0;34m,\u001b[0m \u001b[0mc\u001b[0m\u001b[0;34m,\u001b[0m \u001b[0mpacf\u001b[0m\u001b[0;34m,\u001b[0m \u001b[0mplot_acf\u001b[0m\u001b[0;34m,\u001b[0m \u001b[0mplot_pacf\u001b[0m\u001b[0;34m,\u001b[0m\u001b[0;31m \u001b[0m\u001b[0;31m\\\u001b[0m\u001b[0;34m\u001b[0m\u001b[0;34m\u001b[0m\u001b[0m\n\u001b[1;32m     53\u001b[0m         \u001b[0mtsdisplay\u001b[0m\u001b[0;34m\u001b[0m\u001b[0;34m\u001b[0m\u001b[0m\n",
            "\u001b[0;32m/usr/local/lib/python3.7/dist-packages/pmdarima/arima/__init__.py\u001b[0m in \u001b[0;36m<module>\u001b[0;34m()\u001b[0m\n\u001b[1;32m      4\u001b[0m \u001b[0;34m\u001b[0m\u001b[0m\n\u001b[1;32m      5\u001b[0m \u001b[0;32mfrom\u001b[0m \u001b[0;34m.\u001b[0m\u001b[0mapprox\u001b[0m \u001b[0;32mimport\u001b[0m \u001b[0;34m*\u001b[0m\u001b[0;34m\u001b[0m\u001b[0;34m\u001b[0m\u001b[0m\n\u001b[0;32m----> 6\u001b[0;31m \u001b[0;32mfrom\u001b[0m \u001b[0;34m.\u001b[0m\u001b[0marima\u001b[0m \u001b[0;32mimport\u001b[0m \u001b[0;34m*\u001b[0m\u001b[0;34m\u001b[0m\u001b[0;34m\u001b[0m\u001b[0m\n\u001b[0m\u001b[1;32m      7\u001b[0m \u001b[0;32mfrom\u001b[0m \u001b[0;34m.\u001b[0m\u001b[0mauto\u001b[0m \u001b[0;32mimport\u001b[0m \u001b[0;34m*\u001b[0m\u001b[0;34m\u001b[0m\u001b[0;34m\u001b[0m\u001b[0m\n\u001b[1;32m      8\u001b[0m \u001b[0;32mfrom\u001b[0m \u001b[0;34m.\u001b[0m\u001b[0mutils\u001b[0m \u001b[0;32mimport\u001b[0m \u001b[0;34m*\u001b[0m\u001b[0;34m\u001b[0m\u001b[0;34m\u001b[0m\u001b[0m\n",
            "\u001b[0;32m/usr/local/lib/python3.7/dist-packages/pmdarima/arima/arima.py\u001b[0m in \u001b[0;36m<module>\u001b[0;34m()\u001b[0m\n\u001b[1;32m      8\u001b[0m \u001b[0;32mfrom\u001b[0m \u001b[0msklearn\u001b[0m\u001b[0;34m.\u001b[0m\u001b[0mutils\u001b[0m\u001b[0;34m.\u001b[0m\u001b[0mvalidation\u001b[0m \u001b[0;32mimport\u001b[0m \u001b[0mcheck_array\u001b[0m\u001b[0;34m\u001b[0m\u001b[0;34m\u001b[0m\u001b[0m\n\u001b[1;32m      9\u001b[0m \u001b[0;34m\u001b[0m\u001b[0m\n\u001b[0;32m---> 10\u001b[0;31m \u001b[0;32mfrom\u001b[0m \u001b[0mstatsmodels\u001b[0m \u001b[0;32mimport\u001b[0m \u001b[0mapi\u001b[0m \u001b[0;32mas\u001b[0m \u001b[0msm\u001b[0m\u001b[0;34m\u001b[0m\u001b[0;34m\u001b[0m\u001b[0m\n\u001b[0m\u001b[1;32m     11\u001b[0m \u001b[0;34m\u001b[0m\u001b[0m\n\u001b[1;32m     12\u001b[0m \u001b[0;32mfrom\u001b[0m \u001b[0mscipy\u001b[0m\u001b[0;34m.\u001b[0m\u001b[0mstats\u001b[0m \u001b[0;32mimport\u001b[0m \u001b[0mgaussian_kde\u001b[0m\u001b[0;34m,\u001b[0m \u001b[0mnorm\u001b[0m\u001b[0;34m\u001b[0m\u001b[0;34m\u001b[0m\u001b[0m\n",
            "\u001b[0;32m/usr/local/lib/python3.7/dist-packages/statsmodels/api.py\u001b[0m in \u001b[0;36m<module>\u001b[0;34m()\u001b[0m\n\u001b[1;32m     71\u001b[0m \u001b[0;32mfrom\u001b[0m \u001b[0;34m.\u001b[0m \u001b[0;32mimport\u001b[0m \u001b[0mdatasets\u001b[0m\u001b[0;34m,\u001b[0m \u001b[0mdistributions\u001b[0m\u001b[0;34m,\u001b[0m \u001b[0miolib\u001b[0m\u001b[0;34m,\u001b[0m \u001b[0mregression\u001b[0m\u001b[0;34m,\u001b[0m \u001b[0mrobust\u001b[0m\u001b[0;34m,\u001b[0m \u001b[0mtools\u001b[0m\u001b[0;34m\u001b[0m\u001b[0;34m\u001b[0m\u001b[0m\n\u001b[1;32m     72\u001b[0m \u001b[0;32mfrom\u001b[0m \u001b[0;34m.\u001b[0m\u001b[0m__init__\u001b[0m \u001b[0;32mimport\u001b[0m \u001b[0mtest\u001b[0m\u001b[0;34m\u001b[0m\u001b[0;34m\u001b[0m\u001b[0m\n\u001b[0;32m---> 73\u001b[0;31m from .discrete.count_model import (\n\u001b[0m\u001b[1;32m     74\u001b[0m     \u001b[0mZeroInflatedGeneralizedPoisson\u001b[0m\u001b[0;34m,\u001b[0m\u001b[0;34m\u001b[0m\u001b[0;34m\u001b[0m\u001b[0m\n\u001b[1;32m     75\u001b[0m     \u001b[0mZeroInflatedNegativeBinomialP\u001b[0m\u001b[0;34m,\u001b[0m\u001b[0;34m\u001b[0m\u001b[0;34m\u001b[0m\u001b[0m\n",
            "\u001b[0;32m/usr/local/lib/python3.7/dist-packages/statsmodels/discrete/count_model.py\u001b[0m in \u001b[0;36m<module>\u001b[0;34m()\u001b[0m\n\u001b[1;32m      7\u001b[0m \u001b[0;32mimport\u001b[0m \u001b[0mstatsmodels\u001b[0m\u001b[0;34m.\u001b[0m\u001b[0mbase\u001b[0m\u001b[0;34m.\u001b[0m\u001b[0mwrapper\u001b[0m \u001b[0;32mas\u001b[0m \u001b[0mwrap\u001b[0m\u001b[0;34m\u001b[0m\u001b[0;34m\u001b[0m\u001b[0m\n\u001b[1;32m      8\u001b[0m \u001b[0;32mimport\u001b[0m \u001b[0mstatsmodels\u001b[0m\u001b[0;34m.\u001b[0m\u001b[0mregression\u001b[0m\u001b[0;34m.\u001b[0m\u001b[0mlinear_model\u001b[0m \u001b[0;32mas\u001b[0m \u001b[0mlm\u001b[0m\u001b[0;34m\u001b[0m\u001b[0;34m\u001b[0m\u001b[0m\n\u001b[0;32m----> 9\u001b[0;31m from statsmodels.discrete.discrete_model import (DiscreteModel, CountModel,\n\u001b[0m\u001b[1;32m     10\u001b[0m                                                  \u001b[0mPoisson\u001b[0m\u001b[0;34m,\u001b[0m \u001b[0mLogit\u001b[0m\u001b[0;34m,\u001b[0m \u001b[0mCountResults\u001b[0m\u001b[0;34m,\u001b[0m\u001b[0;34m\u001b[0m\u001b[0;34m\u001b[0m\u001b[0m\n\u001b[1;32m     11\u001b[0m                                                  \u001b[0mL1CountResults\u001b[0m\u001b[0;34m,\u001b[0m \u001b[0mProbit\u001b[0m\u001b[0;34m,\u001b[0m\u001b[0;34m\u001b[0m\u001b[0;34m\u001b[0m\u001b[0m\n",
            "\u001b[0;32m/usr/local/lib/python3.7/dist-packages/statsmodels/discrete/discrete_model.py\u001b[0m in \u001b[0;36m<module>\u001b[0;34m()\u001b[0m\n\u001b[1;32m     19\u001b[0m            \"GeneralizedPoisson\", \"NegativeBinomialP\", \"CountModel\"]\n\u001b[1;32m     20\u001b[0m \u001b[0;34m\u001b[0m\u001b[0m\n\u001b[0;32m---> 21\u001b[0;31m \u001b[0;32mfrom\u001b[0m \u001b[0mstatsmodels\u001b[0m\u001b[0;34m.\u001b[0m\u001b[0mcompat\u001b[0m\u001b[0;34m.\u001b[0m\u001b[0mpandas\u001b[0m \u001b[0;32mimport\u001b[0m \u001b[0mAppender\u001b[0m\u001b[0;34m\u001b[0m\u001b[0;34m\u001b[0m\u001b[0m\n\u001b[0m\u001b[1;32m     22\u001b[0m \u001b[0;34m\u001b[0m\u001b[0m\n\u001b[1;32m     23\u001b[0m \u001b[0;32mimport\u001b[0m \u001b[0mwarnings\u001b[0m\u001b[0;34m\u001b[0m\u001b[0;34m\u001b[0m\u001b[0m\n",
            "\u001b[0;31mImportError\u001b[0m: cannot import name 'Appender' from 'statsmodels.compat.pandas' (/usr/local/lib/python3.7/dist-packages/statsmodels/compat/pandas.py)",
            "",
            "\u001b[0;31m---------------------------------------------------------------------------\u001b[0;32m\nNOTE: If your import is failing due to a missing package, you can\nmanually install dependencies using either !pip or !apt.\n\nTo view examples of installing some common dependencies, click the\n\"Open Examples\" button below.\n\u001b[0;31m---------------------------------------------------------------------------\u001b[0m\n"
          ],
          "errorDetails": {
            "actions": [
              {
                "action": "open_url",
                "actionText": "Open Examples",
                "url": "/notebooks/snippets/importing_libraries.ipynb"
              }
            ]
          }
        }
      ]
    },
    {
      "cell_type": "code",
      "metadata": {
        "colab": {
          "base_uri": "https://localhost:8080/"
        },
        "id": "equGH0pQ8F3G",
        "outputId": "10d3fca0-0cda-4a14-f282-960ae25797a8"
      },
      "source": [
        ""
      ],
      "execution_count": null,
      "outputs": [
        {
          "output_type": "stream",
          "name": "stdout",
          "text": [
            "Requirement already satisfied: pmdarima in /usr/local/lib/python3.7/dist-packages (1.8.4)\n",
            "Requirement already satisfied: setuptools!=50.0.0,>=38.6.0 in /usr/local/lib/python3.7/dist-packages (from pmdarima) (57.4.0)\n",
            "Requirement already satisfied: statsmodels!=0.12.0,>=0.11 in /usr/local/lib/python3.7/dist-packages (from pmdarima) (0.13.1)\n",
            "Requirement already satisfied: joblib>=0.11 in /usr/local/lib/python3.7/dist-packages (from pmdarima) (1.1.0)\n",
            "Requirement already satisfied: urllib3 in /usr/local/lib/python3.7/dist-packages (from pmdarima) (1.24.3)\n",
            "Requirement already satisfied: Cython!=0.29.18,>=0.29 in /usr/local/lib/python3.7/dist-packages (from pmdarima) (0.29.24)\n",
            "Requirement already satisfied: pandas>=0.19 in /usr/local/lib/python3.7/dist-packages (from pmdarima) (1.1.5)\n",
            "Requirement already satisfied: scikit-learn>=0.22 in /usr/local/lib/python3.7/dist-packages (from pmdarima) (1.0.1)\n",
            "Requirement already satisfied: numpy>=1.19.3 in /usr/local/lib/python3.7/dist-packages (from pmdarima) (1.19.5)\n",
            "Requirement already satisfied: scipy>=1.3.2 in /usr/local/lib/python3.7/dist-packages (from pmdarima) (1.4.1)\n",
            "Requirement already satisfied: python-dateutil>=2.7.3 in /usr/local/lib/python3.7/dist-packages (from pandas>=0.19->pmdarima) (2.8.2)\n",
            "Requirement already satisfied: pytz>=2017.2 in /usr/local/lib/python3.7/dist-packages (from pandas>=0.19->pmdarima) (2018.9)\n",
            "Requirement already satisfied: six>=1.5 in /usr/local/lib/python3.7/dist-packages (from python-dateutil>=2.7.3->pandas>=0.19->pmdarima) (1.15.0)\n",
            "Requirement already satisfied: threadpoolctl>=2.0.0 in /usr/local/lib/python3.7/dist-packages (from scikit-learn>=0.22->pmdarima) (3.0.0)\n",
            "Requirement already satisfied: patsy>=0.5.2 in /usr/local/lib/python3.7/dist-packages (from statsmodels!=0.12.0,>=0.11->pmdarima) (0.5.2)\n"
          ]
        }
      ]
    },
    {
      "cell_type": "code",
      "metadata": {
        "id": "h3FwIR8xOj4e"
      },
      "source": [
        ""
      ],
      "execution_count": null,
      "outputs": []
    }
  ]
}